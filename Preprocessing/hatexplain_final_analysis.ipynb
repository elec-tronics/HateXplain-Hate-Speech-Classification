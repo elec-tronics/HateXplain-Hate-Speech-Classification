{
  "cells": [
    {
      "cell_type": "code",
      "execution_count": null,
      "id": "9e98fd8e",
      "metadata": {
        "id": "9e98fd8e"
      },
      "outputs": [],
      "source": [
        "import pandas as pd\n",
        "import numpy as np\n",
        "import matplotlib.pyplot as plt"
      ]
    },
    {
      "cell_type": "code",
      "execution_count": null,
      "id": "ccdef2b9",
      "metadata": {
        "id": "ccdef2b9"
      },
      "outputs": [],
      "source": [
        "hate_speech = pd.read_csv('hatexplain_final.csv')"
      ]
    },
    {
      "cell_type": "code",
      "execution_count": null,
      "id": "b9d7b0bf",
      "metadata": {
        "id": "b9d7b0bf",
        "outputId": "9ca86769-cb75-4a94-9619-b49687fe8e61"
      },
      "outputs": [
        {
          "data": {
            "text/html": [
              "<div>\n",
              "<style scoped>\n",
              "    .dataframe tbody tr th:only-of-type {\n",
              "        vertical-align: middle;\n",
              "    }\n",
              "\n",
              "    .dataframe tbody tr th {\n",
              "        vertical-align: top;\n",
              "    }\n",
              "\n",
              "    .dataframe thead th {\n",
              "        text-align: right;\n",
              "    }\n",
              "</style>\n",
              "<table border=\"1\" class=\"dataframe\">\n",
              "  <thead>\n",
              "    <tr style=\"text-align: right;\">\n",
              "      <th></th>\n",
              "      <th>post_id</th>\n",
              "      <th>post_tokens</th>\n",
              "      <th>label_1</th>\n",
              "      <th>label_2</th>\n",
              "      <th>label_3</th>\n",
              "      <th>normal</th>\n",
              "      <th>offensive</th>\n",
              "      <th>hatespeech</th>\n",
              "      <th>vote</th>\n",
              "    </tr>\n",
              "  </thead>\n",
              "  <tbody>\n",
              "    <tr>\n",
              "      <th>0</th>\n",
              "      <td>1179055004553900032_twitter</td>\n",
              "      <td>['i', 'dont', 'think', 'im', 'getting', 'my', ...</td>\n",
              "      <td>normal</td>\n",
              "      <td>normal</td>\n",
              "      <td>normal</td>\n",
              "      <td>1</td>\n",
              "      <td>0</td>\n",
              "      <td>0</td>\n",
              "      <td>normal</td>\n",
              "    </tr>\n",
              "    <tr>\n",
              "      <th>1</th>\n",
              "      <td>1179063826874032128_twitter</td>\n",
              "      <td>['we', 'cannot', 'continue', 'calling', 'ourse...</td>\n",
              "      <td>normal</td>\n",
              "      <td>normal</td>\n",
              "      <td>normal</td>\n",
              "      <td>1</td>\n",
              "      <td>0</td>\n",
              "      <td>0</td>\n",
              "      <td>normal</td>\n",
              "    </tr>\n",
              "    <tr>\n",
              "      <th>2</th>\n",
              "      <td>1178793830532956161_twitter</td>\n",
              "      <td>['nawt', 'yall', 'niggers', 'ignoring', 'me']</td>\n",
              "      <td>normal</td>\n",
              "      <td>normal</td>\n",
              "      <td>hatespeech</td>\n",
              "      <td>1</td>\n",
              "      <td>0</td>\n",
              "      <td>1</td>\n",
              "      <td>normal</td>\n",
              "    </tr>\n",
              "    <tr>\n",
              "      <th>3</th>\n",
              "      <td>1179088797964763136_twitter</td>\n",
              "      <td>['&lt;user&gt;', 'i', 'am', 'bit', 'confused', 'coz'...</td>\n",
              "      <td>hatespeech</td>\n",
              "      <td>offensive</td>\n",
              "      <td>hatespeech</td>\n",
              "      <td>0</td>\n",
              "      <td>1</td>\n",
              "      <td>1</td>\n",
              "      <td>hatespeech</td>\n",
              "    </tr>\n",
              "    <tr>\n",
              "      <th>4</th>\n",
              "      <td>1179085312976445440_twitter</td>\n",
              "      <td>['this', 'bitch', 'in', 'whataburger', 'eating...</td>\n",
              "      <td>hatespeech</td>\n",
              "      <td>hatespeech</td>\n",
              "      <td>offensive</td>\n",
              "      <td>0</td>\n",
              "      <td>1</td>\n",
              "      <td>1</td>\n",
              "      <td>hatespeech</td>\n",
              "    </tr>\n",
              "  </tbody>\n",
              "</table>\n",
              "</div>"
            ],
            "text/plain": [
              "                       post_id  \\\n",
              "0  1179055004553900032_twitter   \n",
              "1  1179063826874032128_twitter   \n",
              "2  1178793830532956161_twitter   \n",
              "3  1179088797964763136_twitter   \n",
              "4  1179085312976445440_twitter   \n",
              "\n",
              "                                         post_tokens     label_1     label_2  \\\n",
              "0  ['i', 'dont', 'think', 'im', 'getting', 'my', ...      normal      normal   \n",
              "1  ['we', 'cannot', 'continue', 'calling', 'ourse...      normal      normal   \n",
              "2      ['nawt', 'yall', 'niggers', 'ignoring', 'me']      normal      normal   \n",
              "3  ['<user>', 'i', 'am', 'bit', 'confused', 'coz'...  hatespeech   offensive   \n",
              "4  ['this', 'bitch', 'in', 'whataburger', 'eating...  hatespeech  hatespeech   \n",
              "\n",
              "      label_3  normal  offensive  hatespeech        vote  \n",
              "0      normal       1          0           0      normal  \n",
              "1      normal       1          0           0      normal  \n",
              "2  hatespeech       1          0           1      normal  \n",
              "3  hatespeech       0          1           1  hatespeech  \n",
              "4   offensive       0          1           1  hatespeech  "
            ]
          },
          "execution_count": 3,
          "metadata": {},
          "output_type": "execute_result"
        }
      ],
      "source": [
        "hate_speech.head()"
      ]
    },
    {
      "cell_type": "code",
      "execution_count": null,
      "id": "22a6a4b2",
      "metadata": {
        "id": "22a6a4b2",
        "outputId": "16cda573-70f1-4efb-8df1-76a5316db0e8"
      },
      "outputs": [
        {
          "data": {
            "text/plain": [
              "post_id        0\n",
              "post_tokens    0\n",
              "label_1        0\n",
              "label_2        0\n",
              "label_3        0\n",
              "normal         0\n",
              "offensive      0\n",
              "hatespeech     0\n",
              "vote           0\n",
              "dtype: int64"
            ]
          },
          "execution_count": 4,
          "metadata": {},
          "output_type": "execute_result"
        }
      ],
      "source": [
        "hate_speech.isnull().sum()   #checking for null values"
      ]
    },
    {
      "cell_type": "code",
      "execution_count": null,
      "id": "c20d9ea4",
      "metadata": {
        "id": "c20d9ea4",
        "outputId": "ce7db164-9e0e-4fc0-fa95-24fc69056f4b"
      },
      "outputs": [
        {
          "data": {
            "text/plain": [
              "0"
            ]
          },
          "execution_count": 5,
          "metadata": {},
          "output_type": "execute_result"
        }
      ],
      "source": [
        "hate_speech.duplicated().sum()  #checking for duplicates"
      ]
    },
    {
      "cell_type": "code",
      "execution_count": null,
      "id": "31223c9d",
      "metadata": {
        "id": "31223c9d",
        "outputId": "992b328a-5609-49ed-d4c8-5d0eb38da130"
      },
      "outputs": [
        {
          "data": {
            "image/png": "[encoded data removed]",
            "text/plain": [
              "<Figure size 432x288 with 1 Axes>"
            ]
          },
          "metadata": {
            "needs_background": "light"
          },
          "output_type": "display_data"
        }
      ],
      "source": [
        "plt.hist(hate_speech['vote'])\n",
        "plt.xlabel('Category of hate speech')\n",
        "plt.ylabel('Count')\n",
        "plt.title('Count of vote')\n",
        "plt.show()"
      ]
    },
    {
      "cell_type": "code",
      "execution_count": null,
      "id": "baa9da60",
      "metadata": {
        "id": "baa9da60",
        "outputId": "9bc4cd38-250e-4c9a-95bc-18b659cb3113"
      },
      "outputs": [
        {
          "data": {
            "text/html": [
              "<div>\n",
              "<style scoped>\n",
              "    .dataframe tbody tr th:only-of-type {\n",
              "        vertical-align: middle;\n",
              "    }\n",
              "\n",
              "    .dataframe tbody tr th {\n",
              "        vertical-align: top;\n",
              "    }\n",
              "\n",
              "    .dataframe thead th {\n",
              "        text-align: right;\n",
              "    }\n",
              "</style>\n",
              "<table border=\"1\" class=\"dataframe\">\n",
              "  <thead>\n",
              "    <tr style=\"text-align: right;\">\n",
              "      <th></th>\n",
              "      <th>post_id</th>\n",
              "      <th>post_tokens</th>\n",
              "      <th>label_1</th>\n",
              "      <th>label_2</th>\n",
              "      <th>label_3</th>\n",
              "      <th>normal</th>\n",
              "      <th>offensive</th>\n",
              "      <th>hatespeech</th>\n",
              "      <th>vote</th>\n",
              "    </tr>\n",
              "  </thead>\n",
              "  <tbody>\n",
              "    <tr>\n",
              "      <th>0</th>\n",
              "      <td>1179055004553900032_twitter</td>\n",
              "      <td>['i', 'dont', 'think', 'im', 'getting', 'my', ...</td>\n",
              "      <td>normal</td>\n",
              "      <td>normal</td>\n",
              "      <td>normal</td>\n",
              "      <td>1</td>\n",
              "      <td>0</td>\n",
              "      <td>0</td>\n",
              "      <td>normal</td>\n",
              "    </tr>\n",
              "    <tr>\n",
              "      <th>1</th>\n",
              "      <td>1179063826874032128_twitter</td>\n",
              "      <td>['we', 'cannot', 'continue', 'calling', 'ourse...</td>\n",
              "      <td>normal</td>\n",
              "      <td>normal</td>\n",
              "      <td>normal</td>\n",
              "      <td>1</td>\n",
              "      <td>0</td>\n",
              "      <td>0</td>\n",
              "      <td>normal</td>\n",
              "    </tr>\n",
              "    <tr>\n",
              "      <th>2</th>\n",
              "      <td>1178793830532956161_twitter</td>\n",
              "      <td>['nawt', 'yall', 'niggers', 'ignoring', 'me']</td>\n",
              "      <td>normal</td>\n",
              "      <td>normal</td>\n",
              "      <td>hatespeech</td>\n",
              "      <td>1</td>\n",
              "      <td>0</td>\n",
              "      <td>1</td>\n",
              "      <td>normal</td>\n",
              "    </tr>\n",
              "    <tr>\n",
              "      <th>3</th>\n",
              "      <td>1179088797964763136_twitter</td>\n",
              "      <td>['&lt;user&gt;', 'i', 'am', 'bit', 'confused', 'coz'...</td>\n",
              "      <td>hatespeech</td>\n",
              "      <td>offensive</td>\n",
              "      <td>hatespeech</td>\n",
              "      <td>0</td>\n",
              "      <td>1</td>\n",
              "      <td>1</td>\n",
              "      <td>hatespeech</td>\n",
              "    </tr>\n",
              "    <tr>\n",
              "      <th>4</th>\n",
              "      <td>1179085312976445440_twitter</td>\n",
              "      <td>['this', 'bitch', 'in', 'whataburger', 'eating...</td>\n",
              "      <td>hatespeech</td>\n",
              "      <td>hatespeech</td>\n",
              "      <td>offensive</td>\n",
              "      <td>0</td>\n",
              "      <td>1</td>\n",
              "      <td>1</td>\n",
              "      <td>hatespeech</td>\n",
              "    </tr>\n",
              "  </tbody>\n",
              "</table>\n",
              "</div>"
            ],
            "text/plain": [
              "                       post_id  \\\n",
              "0  1179055004553900032_twitter   \n",
              "1  1179063826874032128_twitter   \n",
              "2  1178793830532956161_twitter   \n",
              "3  1179088797964763136_twitter   \n",
              "4  1179085312976445440_twitter   \n",
              "\n",
              "                                         post_tokens     label_1     label_2  \\\n",
              "0  ['i', 'dont', 'think', 'im', 'getting', 'my', ...      normal      normal   \n",
              "1  ['we', 'cannot', 'continue', 'calling', 'ourse...      normal      normal   \n",
              "2      ['nawt', 'yall', 'niggers', 'ignoring', 'me']      normal      normal   \n",
              "3  ['<user>', 'i', 'am', 'bit', 'confused', 'coz'...  hatespeech   offensive   \n",
              "4  ['this', 'bitch', 'in', 'whataburger', 'eating...  hatespeech  hatespeech   \n",
              "\n",
              "      label_3  normal  offensive  hatespeech        vote  \n",
              "0      normal       1          0           0      normal  \n",
              "1      normal       1          0           0      normal  \n",
              "2  hatespeech       1          0           1      normal  \n",
              "3  hatespeech       0          1           1  hatespeech  \n",
              "4   offensive       0          1           1  hatespeech  "
            ]
          },
          "execution_count": 7,
          "metadata": {},
          "output_type": "execute_result"
        }
      ],
      "source": [
        "hate_speech.head()"
      ]
    },
    {
      "cell_type": "code",
      "execution_count": null,
      "id": "419712a0",
      "metadata": {
        "id": "419712a0"
      },
      "outputs": [],
      "source": [
        "hate_speech['token_sentence'] = hate_speech['post_tokens'].apply(eval).apply(' '.join) #converting post_tokens to sentence"
      ]
    },
    {
      "cell_type": "code",
      "execution_count": null,
      "id": "99799987",
      "metadata": {
        "id": "99799987",
        "outputId": "bf2ff04c-9bb3-4e06-ec31-90919b36cd6c"
      },
      "outputs": [
        {
          "data": {
            "text/plain": [
              "0        i dont think im getting my baby them white 9 h...\n",
              "1        we cannot continue calling ourselves feminists...\n",
              "2                            nawt yall niggers ignoring me\n",
              "3        <user> i am bit confused coz chinese ppl can n...\n",
              "4        this bitch in whataburger eating a burger with...\n",
              "                               ...                        \n",
              "20143    if ur still on twitter tell carlton i said his...\n",
              "20144    when i first got on here and said i hate trump...\n",
              "20145    was macht der moslem wenn der zion gegen seine...\n",
              "20146    it is awful look at world demographics asians ...\n",
              "20147    the jewish globalist elite have only imported ...\n",
              "Name: token_sentence, Length: 20148, dtype: object"
            ]
          },
          "execution_count": 9,
          "metadata": {},
          "output_type": "execute_result"
        }
      ],
      "source": [
        "hate_speech['token_sentence']"
      ]
    },
    {
      "cell_type": "code",
      "execution_count": null,
      "id": "9e378a93",
      "metadata": {
        "id": "9e378a93"
      },
      "outputs": [],
      "source": [
        "from nltk import word_tokenize\n",
        "import nltk\n",
        "#nltk.download('punkt')"
      ]
    },
    {
      "cell_type": "code",
      "execution_count": null,
      "id": "a0102626",
      "metadata": {
        "id": "a0102626"
      },
      "outputs": [],
      "source": [
        "hate_speech['new_token_sentence'] = hate_speech['token_sentence'].apply(word_tokenize)"
      ]
    },
    {
      "cell_type": "code",
      "execution_count": null,
      "id": "d3641d30",
      "metadata": {
        "id": "d3641d30"
      },
      "outputs": [],
      "source": [
        "from nltk.probability import FreqDist\n",
        "frequency = hate_speech['new_token_sentence'].apply(FreqDist) #to check the frequency of each word"
      ]
    },
    {
      "cell_type": "code",
      "execution_count": null,
      "id": "e0aed27c",
      "metadata": {
        "id": "e0aed27c",
        "outputId": "88251502-90d7-447f-b641-1a87e10d65fa"
      },
      "outputs": [
        {
          "data": {
            "text/plain": [
              "0        {'i': 1, 'dont': 1, 'think': 1, 'im': 1, 'gett...\n",
              "1        {'we': 1, 'can': 1, 'not': 1, 'continue': 1, '...\n",
              "2        {'nawt': 1, 'yall': 1, 'niggers': 1, 'ignoring...\n",
              "3        {'<': 1, 'user': 1, '>': 1, 'i': 2, 'am': 1, '...\n",
              "4        {'this': 1, 'bitch': 1, 'in': 1, 'whataburger'...\n",
              "                               ...                        \n",
              "20143    {'if': 1, 'ur': 1, 'still': 1, 'on': 1, 'twitt...\n",
              "20144    {'when': 1, 'i': 3, 'first': 1, 'got': 1, 'on'...\n",
              "20145    {'was': 2, 'macht': 1, 'der': 2, 'moslem': 1, ...\n",
              "20146    {'it': 1, 'is': 2, 'awful': 1, 'look': 1, 'at'...\n",
              "20147    {'the': 1, 'jewish': 1, 'globalist': 1, 'elite...\n",
              "Name: new_token_sentence, Length: 20148, dtype: object"
            ]
          },
          "execution_count": 13,
          "metadata": {},
          "output_type": "execute_result"
        }
      ],
      "source": [
        "frequency"
      ]
    },
    {
      "cell_type": "code",
      "execution_count": null,
      "id": "ed5025da",
      "metadata": {
        "id": "ed5025da"
      },
      "outputs": [],
      "source": []
    }
  ],
  "metadata": {
    "kernelspec": {
      "display_name": "Python 3",
      "language": "python",
      "name": "python3"
    },
    "language_info": {
      "codemirror_mode": {
        "name": "ipython",
        "version": 3
      },
      "file_extension": ".py",
      "mimetype": "text/x-python",
      "name": "python",
      "nbconvert_exporter": "python",
      "pygments_lexer": "ipython3",
      "version": "3.8.8"
    },
    "colab": {
      "provenance": []
    }
  },
  "nbformat": 4,
  "nbformat_minor": 5
}
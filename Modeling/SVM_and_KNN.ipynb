{
  "nbformat": 4,
  "nbformat_minor": 0,
  "metadata": {
    "colab": {
      "provenance": []
    },
    "kernelspec": {
      "name": "python3",
      "display_name": "Python 3"
    },
    "language_info": {
      "name": "python"
    }
  },
  "cells": [
    {
      "cell_type": "code",
      "execution_count": null,
      "metadata": {
        "colab": {
          "base_uri": "https://localhost:8080/"
        },
        "id": "Rj7YkE8HaVoG",
        "outputId": "32fd0879-9114-4c03-9c8d-fd9bf3f8fa24"
      },
      "outputs": [
        {
          "output_type": "stream",
          "name": "stderr",
          "text": [
            "[nltk_data] Downloading package punkt to /root/nltk_data...\n",
            "[nltk_data]   Package punkt is already up-to-date!\n",
            "[nltk_data] Downloading package wordnet to /root/nltk_data...\n",
            "[nltk_data]   Package wordnet is already up-to-date!\n",
            "[nltk_data] Downloading package stopwords to /root/nltk_data...\n",
            "[nltk_data]   Package stopwords is already up-to-date!\n"
          ]
        },
        {
          "output_type": "execute_result",
          "data": {
            "text/plain": [
              "True"
            ]
          },
          "metadata": {},
          "execution_count": 1
        }
      ],
      "source": [
        "import nltk\n",
        "nltk.download(['punkt', 'wordnet', 'stopwords'])"
      ]
    },
    {
      "cell_type": "code",
      "source": [
        "import re\n",
        "import pandas as pd\n",
        "from nltk.tokenize import word_tokenize\n",
        "from nltk.stem import WordNetLemmatizer\n",
        "from nltk.corpus import stopwords"
      ],
      "metadata": {
        "id": "LjkhM8WdagDs"
      },
      "execution_count": null,
      "outputs": []
    },
    {
      "cell_type": "code",
      "source": [
        "import pandas as pd     \n",
        "import numpy as np\n",
        "from bs4 import BeautifulSoup\n",
        "import re\n",
        "import nltk\n",
        "# nltk.download()\n",
        "from nltk.corpus import stopwords # Import the stop word list\n",
        "\n",
        "from sklearn.model_selection import train_test_split\n",
        "from sklearn.ensemble import RandomForestClassifier\n",
        "from sklearn.metrics import accuracy_score\n",
        "from ast import literal_eval"
      ],
      "metadata": {
        "id": "4LvNcz82ak-t"
      },
      "execution_count": null,
      "outputs": []
    },
    {
      "cell_type": "code",
      "source": [
        "# import libraries\n",
        "import re\n",
        "import numpy as np\n",
        "import pandas as pd\n",
        "from nltk.tokenize import word_tokenize\n",
        "from nltk.stem import WordNetLemmatizer\n",
        "from sklearn.metrics import confusion_matrix\n",
        "from sklearn.model_selection import train_test_split\n",
        "from sklearn.feature_extraction.text import CountVectorizer, TfidfTransformer\n",
        "from sklearn.feature_extraction.text import CountVectorizer, TfidfVectorizer\n",
        "from sqlalchemy import create_engine\n",
        "import sqlite3\n",
        "from sklearn.multioutput import MultiOutputClassifier\n",
        "from sklearn.pipeline import Pipeline\n",
        "from sklearn.ensemble import RandomForestClassifier\n",
        "from sklearn.model_selection import GridSearchCV\n",
        "from sklearn.metrics import classification_report\n",
        "from sklearn.naive_bayes import MultinomialNB\n",
        "from sklearn.tree import DecisionTreeClassifier\n",
        "import matplotlib.pyplot as plt\n",
        "import seaborn as sns"
      ],
      "metadata": {
        "id": "7D1tk8yAanEI"
      },
      "execution_count": null,
      "outputs": []
    },
    {
      "cell_type": "code",
      "source": [
        "# Importing the necessary libraries\n",
        "import pandas as pd\n",
        "import matplotlib.pyplot as plt\n",
        "from gensim.parsing import preprocessing\n",
        "from gensim.scripts.glove2word2vec import glove2word2vec\n",
        "from gensim.models.keyedvectors import KeyedVectors\n",
        "from sklearn.model_selection import train_test_split\n",
        "from sklearn.feature_extraction.text import TfidfVectorizer\n",
        "from sklearn.feature_extraction.text import CountVectorizer\n",
        "import tensorflow as tf\n",
        "from tensorflow.keras.layers import Embedding\n",
        "from tensorflow import keras\n",
        "from tensorflow.keras import layers\n",
        "from nltk import pos_tag\n",
        "import numpy as np\n",
        "from sklearn import neighbors\n",
        "from sklearn.model_selection import GridSearchCV\n",
        "from matplotlib.pyplot import figure\n",
        "\n",
        "from sklearn import svm\n",
        "import sklearn.model_selection as model_selection\n",
        "from sklearn.metrics import accuracy_score\n",
        "from sklearn.metrics import f1_score\n",
        "from sklearn.metrics import precision_score, recall_score, f1_score, accuracy_score\n",
        "\n",
        "from ast import literal_eval\n",
        "#import transformers as ppb"
      ],
      "metadata": {
        "id": "qwv7XkLmaof8"
      },
      "execution_count": null,
      "outputs": []
    },
    {
      "cell_type": "code",
      "source": [
        "df = pd.read_csv('hatexplain_feature_extractions_v3.csv',\n",
        "                 converters={'word_index_glove': literal_eval, \n",
        "                              'lstm_feature_map': literal_eval,\n",
        "                              'tfidf_word1gram': literal_eval,\n",
        "                              'tfidf_word2gram': literal_eval,\n",
        "                              'tfidf_word3gram': literal_eval,\n",
        "                              'w2v_cbow': literal_eval})"
      ],
      "metadata": {
        "id": "VRhy7o19aqOE"
      },
      "execution_count": null,
      "outputs": []
    },
    {
      "cell_type": "code",
      "source": [
        "df"
      ],
      "metadata": {
        "colab": {
          "base_uri": "https://localhost:8080/",
          "height": 1000
        },
        "id": "Ce71kPqicvEh",
        "outputId": "ba948eaa-8dae-4d3c-cb9e-4a5310b33903"
      },
      "execution_count": null,
      "outputs": [
        {
          "output_type": "execute_result",
          "data": {
            "text/plain": [
              "       Unnamed: 0  vote_ordinal  \\\n",
              "0               0             1   \n",
              "1               1             1   \n",
              "2               2             1   \n",
              "3               3             3   \n",
              "4               4             3   \n",
              "...           ...           ...   \n",
              "20143       20143             2   \n",
              "20144       20144             2   \n",
              "20145       20145             1   \n",
              "20146       20146             3   \n",
              "20147       20147             2   \n",
              "\n",
              "                                        word_index_glove  \\\n",
              "0      [46768, 269, 169, 71222, 298, 298, 10625, 3255...   \n",
              "1      [1, 580, 11853, 248, 1, 138121, 1476, 15082, 2...   \n",
              "2      [1, 381085, 42443, 1, 1, 1, 1, 1, 1, 1, 1, 1, ...   \n",
              "3      [1594, 1, 120621, 156181, 65387, 1122, 10360, ...   \n",
              "4      [30619, 1, 3623, 12203, 28254, 802, 3214, 5281...   \n",
              "...                                                  ...   \n",
              "20143  [10360, 1361, 11828, 16, 4027, 780, 21675, 1, ...   \n",
              "20144  [405, 16, 5281, 10468, 1, 38846, 1, 22696, 528...   \n",
              "20145  [69557, 5027, 7449, 102626, 5027, 20971, 13442...   \n",
              "20146  [34849, 662, 85, 1, 967, 35690, 28379, 298, 1,...   \n",
              "20147  [1316, 157044, 170082, 4689, 93, 1172, 1, 9291...   \n",
              "\n",
              "                                        lstm_feature_map  \\\n",
              "0      [0.13938053, -0.18590486, -0.060539033, 0.0901...   \n",
              "1      [0.04327799, -0.08438103, -0.060883567, 0.0025...   \n",
              "2      [0.030954387, 0.040644534, -0.07671745, 0.0194...   \n",
              "3      [0.004926282, 0.0012388171, -0.0033861813, 0.0...   \n",
              "4      [0.12814277, -0.02799369, -0.022903804, -0.103...   \n",
              "...                                                  ...   \n",
              "20143  [-0.08081896, -0.25950265, 0.078297645, 0.0035...   \n",
              "20144  [0.020776447, -0.17637987, 0.11507965, 0.00168...   \n",
              "20145  [0.030287618, -0.091516644, -0.115807004, -0.0...   \n",
              "20146  [-0.01178721, -0.16269265, -0.07008049, 0.0428...   \n",
              "20147  [-0.066718556, -0.16297267, 0.061089758, 0.124...   \n",
              "\n",
              "                                         tfidf_word1gram  \\\n",
              "0      [4834, 17394, 6750, 1188, 19043, 19043, 11943,...   \n",
              "1      [3571, 2512, 5937, 14569, 19264, 832, 168, 194...   \n",
              "2      [11667, 19441, 11893, 8233, 0, 0, 0, 0, 0, 0, ...   \n",
              "3      [1757, 3491, 3743, 2964, 13434, 97, 17994, 174...   \n",
              "4      [1758, 19000, 5128, 2393, 2373, 7844, 12652, 7...   \n",
              "...                                                  ...   \n",
              "20143  [17994, 17207, 2640, 14893, 403, 4982, 164, 17...   \n",
              "20144  [6997, 14893, 7509, 17862, 3533, 17828, 12902,...   \n",
              "20145  [10311, 4359, 11291, 18950, 4359, 19629, 6680,...   \n",
              "20146  [1132, 10144, 19311, 4288, 932, 6419, 1629, 19...   \n",
              "20147  [8988, 6864, 5257, 8333, 10967, 11487, 11431, ...   \n",
              "\n",
              "                                         tfidf_word2gram  \\\n",
              "0      [36687, 139476, 52026, 9263, 153473, 153092, 9...   \n",
              "1      [27018, 18616, 45642, 119516, 155555, 6181, 15...   \n",
              "2      [94118, 157521, 97062, 0, 0, 0, 0, 0, 0, 0, 0,...   \n",
              "3      [12858, 26378, 29004, 22211, 108082, 598, 1454...   \n",
              "4      [13509, 152337, 38652, 18022, 17904, 62123, 10...   \n",
              "...                                                  ...   \n",
              "20143  [145398, 137813, 19819, 121393, 3077, 37458, 1...   \n",
              "20144  [55464, 121497, 59401, 143889, 26734, 143516, ...   \n",
              "20145  [83848, 33894, 90844, 151973, 33896, 158813, 5...   \n",
              "20146  [8861, 82483, 156365, 33511, 6904, 48894, 1198...   \n",
              "20147  [71104, 53545, 39316, 66229, 88695, 92524, 917...   \n",
              "\n",
              "                                         tfidf_word3gram  \\\n",
              "0      [39463, 155726, 56397, 10094, 173291, 172093, ...   \n",
              "1      [29372, 20476, 48977, 134079, 176031, 6848, 16...   \n",
              "2      [105012, 178166, 0, 0, 0, 0, 0, 0, 0, 0, 0, 0,...   \n",
              "3      [13838, 28731, 31520, 24268, 121193, 620, 1623...   \n",
              "4      [14667, 169988, 41588, 19867, 19736, 67803, 11...   \n",
              "...                                                  ...   \n",
              "20143  [162339, 153834, 21830, 136104, 3273, 40289, 1...   \n",
              "20144  [60568, 136229, 64905, 160529, 29083, 160148, ...   \n",
              "20145  [93270, 36609, 101069, 169588, 36611, 179677, ...   \n",
              "20146  [9682, 91762, 176956, 36243, 7573, 52363, 1292...   \n",
              "20147  [78063, 58290, 42250, 72586, 98745, 103139, 10...   \n",
              "\n",
              "                                                w2v_cbow  \n",
              "0      [161, 21, 70, 155, 0, 0, 4001, 988, 1, 1, 1, 1...  \n",
              "1      [565, 40, 326, 23, 1, 2026, 1264, 118, 167, 1,...  \n",
              "2      [1, 672, 1, 279, 1, 1, 1, 1, 1, 1, 1, 1, 1, 1,...  \n",
              "3      [454, 987, 2862, 640, 221, 1793, 81, 1, 569, 5...  \n",
              "4      [10, 1, 313, 3335, 1, 458, 1, 14, 0, 10, 1, 1,...  \n",
              "...                                                  ...  \n",
              "20143  [81, 79, 1, 56, 1763, 457, 1861, 1934, 292, 47...  \n",
              "20144  [41, 56, 14, 29, 396, 622, 4, 1699, 14, 1, 622...  \n",
              "20145  [1, 2887, 35, 1, 2887, 3239, 1, 1, 1, 1, 1, 1,...  \n",
              "20146  [1715, 25, 63, 1608, 43, 3, 1, 0, 357, 82, 1, ...  \n",
              "20147  [186, 621, 1070, 291, 143, 5, 1858, 3446, 68, ...  \n",
              "\n",
              "[20148 rows x 8 columns]"
            ],
            "text/html": [
              "\n",
              "  <div id=\"df-35501c17-5ab9-4719-b162-c3e2ec6ca5b8\">\n",
              "    <div class=\"colab-df-container\">\n",
              "      <div>\n",
              "<style scoped>\n",
              "    .dataframe tbody tr th:only-of-type {\n",
              "        vertical-align: middle;\n",
              "    }\n",
              "\n",
              "    .dataframe tbody tr th {\n",
              "        vertical-align: top;\n",
              "    }\n",
              "\n",
              "    .dataframe thead th {\n",
              "        text-align: right;\n",
              "    }\n",
              "</style>\n",
              "<table border=\"1\" class=\"dataframe\">\n",
              "  <thead>\n",
              "    <tr style=\"text-align: right;\">\n",
              "      <th></th>\n",
              "      <th>Unnamed: 0</th>\n",
              "      <th>vote_ordinal</th>\n",
              "      <th>word_index_glove</th>\n",
              "      <th>lstm_feature_map</th>\n",
              "      <th>tfidf_word1gram</th>\n",
              "      <th>tfidf_word2gram</th>\n",
              "      <th>tfidf_word3gram</th>\n",
              "      <th>w2v_cbow</th>\n",
              "    </tr>\n",
              "  </thead>\n",
              "  <tbody>\n",
              "    <tr>\n",
              "      <th>0</th>\n",
              "      <td>0</td>\n",
              "      <td>1</td>\n",
              "      <td>[46768, 269, 169, 71222, 298, 298, 10625, 3255...</td>\n",
              "      <td>[0.13938053, -0.18590486, -0.060539033, 0.0901...</td>\n",
              "      <td>[4834, 17394, 6750, 1188, 19043, 19043, 11943,...</td>\n",
              "      <td>[36687, 139476, 52026, 9263, 153473, 153092, 9...</td>\n",
              "      <td>[39463, 155726, 56397, 10094, 173291, 172093, ...</td>\n",
              "      <td>[161, 21, 70, 155, 0, 0, 4001, 988, 1, 1, 1, 1...</td>\n",
              "    </tr>\n",
              "    <tr>\n",
              "      <th>1</th>\n",
              "      <td>1</td>\n",
              "      <td>1</td>\n",
              "      <td>[1, 580, 11853, 248, 1, 138121, 1476, 15082, 2...</td>\n",
              "      <td>[0.04327799, -0.08438103, -0.060883567, 0.0025...</td>\n",
              "      <td>[3571, 2512, 5937, 14569, 19264, 832, 168, 194...</td>\n",
              "      <td>[27018, 18616, 45642, 119516, 155555, 6181, 15...</td>\n",
              "      <td>[29372, 20476, 48977, 134079, 176031, 6848, 16...</td>\n",
              "      <td>[565, 40, 326, 23, 1, 2026, 1264, 118, 167, 1,...</td>\n",
              "    </tr>\n",
              "    <tr>\n",
              "      <th>2</th>\n",
              "      <td>2</td>\n",
              "      <td>1</td>\n",
              "      <td>[1, 381085, 42443, 1, 1, 1, 1, 1, 1, 1, 1, 1, ...</td>\n",
              "      <td>[0.030954387, 0.040644534, -0.07671745, 0.0194...</td>\n",
              "      <td>[11667, 19441, 11893, 8233, 0, 0, 0, 0, 0, 0, ...</td>\n",
              "      <td>[94118, 157521, 97062, 0, 0, 0, 0, 0, 0, 0, 0,...</td>\n",
              "      <td>[105012, 178166, 0, 0, 0, 0, 0, 0, 0, 0, 0, 0,...</td>\n",
              "      <td>[1, 672, 1, 279, 1, 1, 1, 1, 1, 1, 1, 1, 1, 1,...</td>\n",
              "    </tr>\n",
              "    <tr>\n",
              "      <th>3</th>\n",
              "      <td>3</td>\n",
              "      <td>3</td>\n",
              "      <td>[1594, 1, 120621, 156181, 65387, 1122, 10360, ...</td>\n",
              "      <td>[0.004926282, 0.0012388171, -0.0033861813, 0.0...</td>\n",
              "      <td>[1757, 3491, 3743, 2964, 13434, 97, 17994, 174...</td>\n",
              "      <td>[12858, 26378, 29004, 22211, 108082, 598, 1454...</td>\n",
              "      <td>[13838, 28731, 31520, 24268, 121193, 620, 1623...</td>\n",
              "      <td>[454, 987, 2862, 640, 221, 1793, 81, 1, 569, 5...</td>\n",
              "    </tr>\n",
              "    <tr>\n",
              "      <th>4</th>\n",
              "      <td>4</td>\n",
              "      <td>3</td>\n",
              "      <td>[30619, 1, 3623, 12203, 28254, 802, 3214, 5281...</td>\n",
              "      <td>[0.12814277, -0.02799369, -0.022903804, -0.103...</td>\n",
              "      <td>[1758, 19000, 5128, 2393, 2373, 7844, 12652, 7...</td>\n",
              "      <td>[13509, 152337, 38652, 18022, 17904, 62123, 10...</td>\n",
              "      <td>[14667, 169988, 41588, 19867, 19736, 67803, 11...</td>\n",
              "      <td>[10, 1, 313, 3335, 1, 458, 1, 14, 0, 10, 1, 1,...</td>\n",
              "    </tr>\n",
              "    <tr>\n",
              "      <th>...</th>\n",
              "      <td>...</td>\n",
              "      <td>...</td>\n",
              "      <td>...</td>\n",
              "      <td>...</td>\n",
              "      <td>...</td>\n",
              "      <td>...</td>\n",
              "      <td>...</td>\n",
              "      <td>...</td>\n",
              "    </tr>\n",
              "    <tr>\n",
              "      <th>20143</th>\n",
              "      <td>20143</td>\n",
              "      <td>2</td>\n",
              "      <td>[10360, 1361, 11828, 16, 4027, 780, 21675, 1, ...</td>\n",
              "      <td>[-0.08081896, -0.25950265, 0.078297645, 0.0035...</td>\n",
              "      <td>[17994, 17207, 2640, 14893, 403, 4982, 164, 17...</td>\n",
              "      <td>[145398, 137813, 19819, 121393, 3077, 37458, 1...</td>\n",
              "      <td>[162339, 153834, 21830, 136104, 3273, 40289, 1...</td>\n",
              "      <td>[81, 79, 1, 56, 1763, 457, 1861, 1934, 292, 47...</td>\n",
              "    </tr>\n",
              "    <tr>\n",
              "      <th>20144</th>\n",
              "      <td>20144</td>\n",
              "      <td>2</td>\n",
              "      <td>[405, 16, 5281, 10468, 1, 38846, 1, 22696, 528...</td>\n",
              "      <td>[0.020776447, -0.17637987, 0.11507965, 0.00168...</td>\n",
              "      <td>[6997, 14893, 7509, 17862, 3533, 17828, 12902,...</td>\n",
              "      <td>[55464, 121497, 59401, 143889, 26734, 143516, ...</td>\n",
              "      <td>[60568, 136229, 64905, 160529, 29083, 160148, ...</td>\n",
              "      <td>[41, 56, 14, 29, 396, 622, 4, 1699, 14, 1, 622...</td>\n",
              "    </tr>\n",
              "    <tr>\n",
              "      <th>20145</th>\n",
              "      <td>20145</td>\n",
              "      <td>1</td>\n",
              "      <td>[69557, 5027, 7449, 102626, 5027, 20971, 13442...</td>\n",
              "      <td>[0.030287618, -0.091516644, -0.115807004, -0.0...</td>\n",
              "      <td>[10311, 4359, 11291, 18950, 4359, 19629, 6680,...</td>\n",
              "      <td>[83848, 33894, 90844, 151973, 33896, 158813, 5...</td>\n",
              "      <td>[93270, 36609, 101069, 169588, 36611, 179677, ...</td>\n",
              "      <td>[1, 2887, 35, 1, 2887, 3239, 1, 1, 1, 1, 1, 1,...</td>\n",
              "    </tr>\n",
              "    <tr>\n",
              "      <th>20146</th>\n",
              "      <td>20146</td>\n",
              "      <td>3</td>\n",
              "      <td>[34849, 662, 85, 1, 967, 35690, 28379, 298, 1,...</td>\n",
              "      <td>[-0.01178721, -0.16269265, -0.07008049, 0.0428...</td>\n",
              "      <td>[1132, 10144, 19311, 4288, 932, 6419, 1629, 19...</td>\n",
              "      <td>[8861, 82483, 156365, 33511, 6904, 48894, 1198...</td>\n",
              "      <td>[9682, 91762, 176956, 36243, 7573, 52363, 1292...</td>\n",
              "      <td>[1715, 25, 63, 1608, 43, 3, 1, 0, 357, 82, 1, ...</td>\n",
              "    </tr>\n",
              "    <tr>\n",
              "      <th>20147</th>\n",
              "      <td>20147</td>\n",
              "      <td>2</td>\n",
              "      <td>[1316, 157044, 170082, 4689, 93, 1172, 1, 9291...</td>\n",
              "      <td>[-0.066718556, -0.16297267, 0.061089758, 0.124...</td>\n",
              "      <td>[8988, 6864, 5257, 8333, 10967, 11487, 11431, ...</td>\n",
              "      <td>[71104, 53545, 39316, 66229, 88695, 92524, 917...</td>\n",
              "      <td>[78063, 58290, 42250, 72586, 98745, 103139, 10...</td>\n",
              "      <td>[186, 621, 1070, 291, 143, 5, 1858, 3446, 68, ...</td>\n",
              "    </tr>\n",
              "  </tbody>\n",
              "</table>\n",
              "<p>20148 rows × 8 columns</p>\n",
              "</div>\n",
              "      <button class=\"colab-df-convert\" onclick=\"convertToInteractive('df-35501c17-5ab9-4719-b162-c3e2ec6ca5b8')\"\n",
              "              title=\"Convert this dataframe to an interactive table.\"\n",
              "              style=\"display:none;\">\n",
              "        \n",
              "  <svg xmlns=\"http://www.w3.org/2000/svg\" height=\"24px\"viewBox=\"0 0 24 24\"\n",
              "       width=\"24px\">\n",
              "    <path d=\"M0 0h24v24H0V0z\" fill=\"none\"/>\n",
              "    <path d=\"M18.56 5.44l.94 2.06.94-2.06 2.06-.94-2.06-.94-.94-2.06-.94 2.06-2.06.94zm-11 1L8.5 8.5l.94-2.06 2.06-.94-2.06-.94L8.5 2.5l-.94 2.06-2.06.94zm10 10l.94 2.06.94-2.06 2.06-.94-2.06-.94-.94-2.06-.94 2.06-2.06.94z\"/><path d=\"M17.41 7.96l-1.37-1.37c-.4-.4-.92-.59-1.43-.59-.52 0-1.04.2-1.43.59L10.3 9.45l-7.72 7.72c-.78.78-.78 2.05 0 2.83L4 21.41c.39.39.9.59 1.41.59.51 0 1.02-.2 1.41-.59l7.78-7.78 2.81-2.81c.8-.78.8-2.07 0-2.86zM5.41 20L4 18.59l7.72-7.72 1.47 1.35L5.41 20z\"/>\n",
              "  </svg>\n",
              "      </button>\n",
              "      \n",
              "  <style>\n",
              "    .colab-df-container {\n",
              "      display:flex;\n",
              "      flex-wrap:wrap;\n",
              "      gap: 12px;\n",
              "    }\n",
              "\n",
              "    .colab-df-convert {\n",
              "      background-color: #E8F0FE;\n",
              "      border: none;\n",
              "      border-radius: 50%;\n",
              "      cursor: pointer;\n",
              "      display: none;\n",
              "      fill: #1967D2;\n",
              "      height: 32px;\n",
              "      padding: 0 0 0 0;\n",
              "      width: 32px;\n",
              "    }\n",
              "\n",
              "    .colab-df-convert:hover {\n",
              "      background-color: #E2EBFA;\n",
              "      box-shadow: 0px 1px 2px rgba(60, 64, 67, 0.3), 0px 1px 3px 1px rgba(60, 64, 67, 0.15);\n",
              "      fill: #174EA6;\n",
              "    }\n",
              "\n",
              "    [theme=dark] .colab-df-convert {\n",
              "      background-color: #3B4455;\n",
              "      fill: #D2E3FC;\n",
              "    }\n",
              "\n",
              "    [theme=dark] .colab-df-convert:hover {\n",
              "      background-color: #434B5C;\n",
              "      box-shadow: 0px 1px 3px 1px rgba(0, 0, 0, 0.15);\n",
              "      filter: drop-shadow(0px 1px 2px rgba(0, 0, 0, 0.3));\n",
              "      fill: #FFFFFF;\n",
              "    }\n",
              "  </style>\n",
              "\n",
              "      <script>\n",
              "        const buttonEl =\n",
              "          document.querySelector('#df-35501c17-5ab9-4719-b162-c3e2ec6ca5b8 button.colab-df-convert');\n",
              "        buttonEl.style.display =\n",
              "          google.colab.kernel.accessAllowed ? 'block' : 'none';\n",
              "\n",
              "        async function convertToInteractive(key) {\n",
              "          const element = document.querySelector('#df-35501c17-5ab9-4719-b162-c3e2ec6ca5b8');\n",
              "          const dataTable =\n",
              "            await google.colab.kernel.invokeFunction('convertToInteractive',\n",
              "                                                     [key], {});\n",
              "          if (!dataTable) return;\n",
              "\n",
              "          const docLinkHtml = 'Like what you see? Visit the ' +\n",
              "            '<a target=\"_blank\" href=https://colab.research.google.com/notebooks/data_table.ipynb>data table notebook</a>'\n",
              "            + ' to learn more about interactive tables.';\n",
              "          element.innerHTML = '';\n",
              "          dataTable['output_type'] = 'display_data';\n",
              "          await google.colab.output.renderOutput(dataTable, element);\n",
              "          const docLink = document.createElement('div');\n",
              "          docLink.innerHTML = docLinkHtml;\n",
              "          element.appendChild(docLink);\n",
              "        }\n",
              "      </script>\n",
              "    </div>\n",
              "  </div>\n",
              "  "
            ]
          },
          "metadata": {},
          "execution_count": 7
        }
      ]
    },
    {
      "cell_type": "code",
      "source": [
        "df = df.drop('Unnamed: 0', axis=1)"
      ],
      "metadata": {
        "id": "yqupa2OWdcUn"
      },
      "execution_count": null,
      "outputs": []
    },
    {
      "cell_type": "code",
      "source": [
        "#df.loc[df['vote_ordinal'] ==3, 'vote_ordinal'] = 2"
      ],
      "metadata": {
        "id": "t5NlSAzYc9EW"
      },
      "execution_count": null,
      "outputs": []
    },
    {
      "cell_type": "code",
      "source": [
        "df['vote_ordinal'].unique()"
      ],
      "metadata": {
        "colab": {
          "base_uri": "https://localhost:8080/"
        },
        "id": "bkCGI4hCc9Gh",
        "outputId": "136db3ca-1a04-42b2-a374-6ebd4fe317be"
      },
      "execution_count": null,
      "outputs": [
        {
          "output_type": "execute_result",
          "data": {
            "text/plain": [
              "array([1, 3, 2, 0])"
            ]
          },
          "metadata": {},
          "execution_count": 9
        }
      ]
    },
    {
      "cell_type": "code",
      "source": [
        "df.groupby('vote_ordinal').size()"
      ],
      "metadata": {
        "colab": {
          "base_uri": "https://localhost:8080/"
        },
        "id": "F7ykHmJXfAF_",
        "outputId": "601ecd16-8dca-4789-ed42-f28a1355f396"
      },
      "execution_count": null,
      "outputs": [
        {
          "output_type": "execute_result",
          "data": {
            "text/plain": [
              "vote_ordinal\n",
              "0     919\n",
              "1    7814\n",
              "2    5480\n",
              "3    5935\n",
              "dtype: int64"
            ]
          },
          "metadata": {},
          "execution_count": 10
        }
      ]
    },
    {
      "cell_type": "markdown",
      "source": [
        "## LSTM Features"
      ],
      "metadata": {
        "id": "zKgSsEnOfT48"
      }
    },
    {
      "cell_type": "code",
      "source": [
        "df1 = df[['lstm_feature_map','vote_ordinal']]"
      ],
      "metadata": {
        "id": "ZpREjQCZc9J8"
      },
      "execution_count": null,
      "outputs": []
    },
    {
      "cell_type": "code",
      "source": [
        "X = df['lstm_feature_map']\n",
        "y = df.vote_ordinal\n",
        "\n",
        "X_train, X_test, y_train, y_test = train_test_split(X, y, test_size=0.3) # 70% training and 30% test\n",
        "\n",
        "X_train=list(np.array(X_train))\n",
        "X_test = list(np.array(X_test))"
      ],
      "metadata": {
        "id": "3I-mXOtpd7DB"
      },
      "execution_count": null,
      "outputs": []
    },
    {
      "cell_type": "markdown",
      "source": [
        "SVC"
      ],
      "metadata": {
        "id": "m6lvlstsgXBy"
      }
    },
    {
      "cell_type": "code",
      "source": [
        "# Running all the cells in KNN glove \n",
        "rbf = svm.SVC(kernel='rbf', gamma=0.5, C=0.1).fit(X_train, y_train)"
      ],
      "metadata": {
        "id": "9gOV2txsd7FJ"
      },
      "execution_count": null,
      "outputs": []
    },
    {
      "cell_type": "code",
      "source": [
        "rbf_pred = rbf.predict(X_test)"
      ],
      "metadata": {
        "id": "9sthG85cd7Iq"
      },
      "execution_count": null,
      "outputs": []
    },
    {
      "cell_type": "code",
      "source": [
        "rbf_accuracy = accuracy_score(y_test, rbf_pred)\n",
        "rbf_f1 = f1_score(y_test, rbf_pred, average='weighted')\n",
        "print('Accuracy (RBF Kernel): ', \"%.2f\" % (rbf_accuracy*100))\n",
        "print('F1 (RBF Kernel): ', \"%.2f\" % (rbf_f1*100))\n"
      ],
      "metadata": {
        "colab": {
          "base_uri": "https://localhost:8080/"
        },
        "id": "TObLwrRNfI55",
        "outputId": "3dbb1b8f-dc35-4c5c-e242-76929bb1e847"
      },
      "execution_count": null,
      "outputs": [
        {
          "output_type": "stream",
          "name": "stdout",
          "text": [
            "Accuracy (RBF Kernel):  37.88\n",
            "F1 (RBF Kernel):  20.82\n"
          ]
        }
      ]
    },
    {
      "cell_type": "code",
      "source": [
        "from sklearn.metrics import classification_report\n",
        "print(classification_report(y_test, rbf_pred))"
      ],
      "metadata": {
        "colab": {
          "base_uri": "https://localhost:8080/"
        },
        "id": "iKvycft0hL3y",
        "outputId": "f08d649d-fb6d-482a-a179-0a6d4b53f1c3"
      },
      "execution_count": null,
      "outputs": [
        {
          "output_type": "stream",
          "name": "stdout",
          "text": [
            "              precision    recall  f1-score   support\n",
            "\n",
            "           0       0.00      0.00      0.00       265\n",
            "           1       0.38      1.00      0.55      2290\n",
            "           2       0.00      0.00      0.00      1682\n",
            "           3       0.00      0.00      0.00      1808\n",
            "\n",
            "    accuracy                           0.38      6045\n",
            "   macro avg       0.09      0.25      0.14      6045\n",
            "weighted avg       0.14      0.38      0.21      6045\n",
            "\n"
          ]
        },
        {
          "output_type": "stream",
          "name": "stderr",
          "text": [
            "/usr/local/lib/python3.8/dist-packages/sklearn/metrics/_classification.py:1318: UndefinedMetricWarning: Precision and F-score are ill-defined and being set to 0.0 in labels with no predicted samples. Use `zero_division` parameter to control this behavior.\n",
            "  _warn_prf(average, modifier, msg_start, len(result))\n",
            "/usr/local/lib/python3.8/dist-packages/sklearn/metrics/_classification.py:1318: UndefinedMetricWarning: Precision and F-score are ill-defined and being set to 0.0 in labels with no predicted samples. Use `zero_division` parameter to control this behavior.\n",
            "  _warn_prf(average, modifier, msg_start, len(result))\n",
            "/usr/local/lib/python3.8/dist-packages/sklearn/metrics/_classification.py:1318: UndefinedMetricWarning: Precision and F-score are ill-defined and being set to 0.0 in labels with no predicted samples. Use `zero_division` parameter to control this behavior.\n",
            "  _warn_prf(average, modifier, msg_start, len(result))\n"
          ]
        }
      ]
    },
    {
      "cell_type": "code",
      "source": [
        "poly = svm.SVC(kernel='poly', degree=3, C=1).fit(X_train, y_train)"
      ],
      "metadata": {
        "id": "s6L-aPkafI9T"
      },
      "execution_count": null,
      "outputs": []
    },
    {
      "cell_type": "code",
      "source": [
        "poly_pred = poly.predict(X_test)"
      ],
      "metadata": {
        "id": "4Md_e-gJfKIC"
      },
      "execution_count": null,
      "outputs": []
    },
    {
      "cell_type": "code",
      "source": [
        "poly_accuracy = accuracy_score(y_test, poly_pred)\n",
        "poly_f1 = f1_score(y_test, poly_pred, average='weighted')\n",
        "print('Accuracy (Polynomial Kernel): ', \"%.2f\" % (poly_accuracy*100))\n",
        "print('F1 (Polynomial Kernel): ', \"%.2f\" % (poly_f1*100))"
      ],
      "metadata": {
        "colab": {
          "base_uri": "https://localhost:8080/"
        },
        "id": "hMSKvYTPfKEr",
        "outputId": "c72641cb-3dc4-440b-b105-09bc7e697f92"
      },
      "execution_count": null,
      "outputs": [
        {
          "output_type": "stream",
          "name": "stdout",
          "text": [
            "Accuracy (Polynomial Kernel):  37.70\n",
            "F1 (Polynomial Kernel):  24.70\n"
          ]
        }
      ]
    },
    {
      "cell_type": "code",
      "source": [
        "from sklearn.metrics import classification_report\n",
        "print(classification_report(y_test, poly_pred))"
      ],
      "metadata": {
        "colab": {
          "base_uri": "https://localhost:8080/"
        },
        "id": "TVz4RaRVhPOD",
        "outputId": "b57cebd9-d64b-4abb-f68e-3e8300a24158"
      },
      "execution_count": null,
      "outputs": [
        {
          "output_type": "stream",
          "name": "stdout",
          "text": [
            "              precision    recall  f1-score   support\n",
            "\n",
            "           0       0.00      0.00      0.00       265\n",
            "           1       0.38      0.93      0.54      2290\n",
            "           2       0.26      0.01      0.02      1682\n",
            "           3       0.36      0.07      0.12      1808\n",
            "\n",
            "    accuracy                           0.38      6045\n",
            "   macro avg       0.25      0.25      0.17      6045\n",
            "weighted avg       0.32      0.38      0.25      6045\n",
            "\n"
          ]
        }
      ]
    },
    {
      "cell_type": "markdown",
      "source": [
        "KNN"
      ],
      "metadata": {
        "id": "IXCMpMsAgdR0"
      }
    },
    {
      "cell_type": "code",
      "source": [
        "X_train1=X_train\n",
        "X_test1=X_test"
      ],
      "metadata": {
        "id": "DLWRmKj0g6QX"
      },
      "execution_count": null,
      "outputs": []
    },
    {
      "cell_type": "code",
      "source": [
        "# Standardizing \n",
        "from sklearn.preprocessing import StandardScaler\n",
        "scaler = StandardScaler()\n",
        "scaler.fit_transform(X_train1)\n",
        "scaler.transform(X_test1)"
      ],
      "metadata": {
        "colab": {
          "base_uri": "https://localhost:8080/"
        },
        "id": "xndg6H4OfKC0",
        "outputId": "ddd9b835-1ddc-42fe-a30b-1bbf70bb978c"
      },
      "execution_count": null,
      "outputs": [
        {
          "output_type": "execute_result",
          "data": {
            "text/plain": [
              "array([[ 0.24186266,  1.60437196, -1.11955106, ...,  0.        ,\n",
              "         0.        ,  0.        ],\n",
              "       [-1.17411407,  0.50274616, -0.36044937, ...,  0.        ,\n",
              "         0.        ,  0.        ],\n",
              "       [ 0.27510407, -1.19373247, -0.33058363, ...,  0.        ,\n",
              "         0.        ,  0.        ],\n",
              "       ...,\n",
              "       [ 0.90812055,  1.4122467 ,  1.50300192, ...,  0.        ,\n",
              "         0.        ,  0.        ],\n",
              "       [-1.44665786, -1.36110209,  1.52365194, ...,  0.        ,\n",
              "         0.        ,  0.        ],\n",
              "       [-1.09958898, -1.19337369,  0.81506601, ...,  0.        ,\n",
              "         0.        ,  0.        ]])"
            ]
          },
          "metadata": {},
          "execution_count": 87
        }
      ]
    },
    {
      "cell_type": "code",
      "source": [
        "from sklearn import neighbors\n",
        "KNN_model=neighbors.KNeighborsClassifier(n_neighbors=5,  metric='euclidean')\n",
        "KNN_model.fit(X_train1,y_train)"
      ],
      "metadata": {
        "colab": {
          "base_uri": "https://localhost:8080/"
        },
        "id": "Yk6KUCyafKAg",
        "outputId": "eb606ce0-589c-4c8e-e0bc-56275044ee8b"
      },
      "execution_count": null,
      "outputs": [
        {
          "output_type": "execute_result",
          "data": {
            "text/plain": [
              "KNeighborsClassifier(metric='euclidean')"
            ]
          },
          "metadata": {},
          "execution_count": 95
        }
      ]
    },
    {
      "cell_type": "code",
      "source": [
        "pred=KNN_model.predict(X_test)\n",
        "print(\"Accuracy={}%\".format((sum(y_test==pred)/y_test.shape[0])*100)) # acc is 55.4% - LSTM"
      ],
      "metadata": {
        "colab": {
          "base_uri": "https://localhost:8080/"
        },
        "id": "mAnhEGEUfJ-I",
        "outputId": "af04d0a0-d493-4a82-beb3-eac2373a68de"
      },
      "execution_count": null,
      "outputs": [
        {
          "output_type": "stream",
          "name": "stdout",
          "text": [
            "Accuracy=35.583126550868485%\n"
          ]
        }
      ]
    },
    {
      "cell_type": "code",
      "source": [
        "from sklearn.metrics import classification_report\n",
        "print(classification_report(y_test, pred))"
      ],
      "metadata": {
        "colab": {
          "base_uri": "https://localhost:8080/"
        },
        "id": "O5uuJfK1gnSh",
        "outputId": "d9da10f4-072f-4ffa-8989-ec311ac0116b"
      },
      "execution_count": null,
      "outputs": [
        {
          "output_type": "stream",
          "name": "stdout",
          "text": [
            "              precision    recall  f1-score   support\n",
            "\n",
            "           0       0.02      0.01      0.01       265\n",
            "           1       0.39      0.56      0.46      2290\n",
            "           2       0.31      0.26      0.28      1682\n",
            "           3       0.34      0.23      0.28      1808\n",
            "\n",
            "    accuracy                           0.36      6045\n",
            "   macro avg       0.27      0.27      0.26      6045\n",
            "weighted avg       0.34      0.36      0.34      6045\n",
            "\n"
          ]
        }
      ]
    },
    {
      "cell_type": "markdown",
      "source": [
        "### GloVe"
      ],
      "metadata": {
        "id": "_B6WR-S-hXNM"
      }
    },
    {
      "cell_type": "code",
      "source": [
        "df2 = df[['word_index_glove','vote_ordinal']]"
      ],
      "metadata": {
        "id": "jo4E26ZJhnVP"
      },
      "execution_count": null,
      "outputs": []
    },
    {
      "cell_type": "code",
      "source": [
        "X = df['word_index_glove']\n",
        "y = df.vote_ordinal\n",
        "\n",
        "X_train, X_test, y_train, y_test = train_test_split(X, y, test_size=0.3) # 70% training and 30% test\n",
        "\n",
        "X_train=list(np.array(X_train))\n",
        "X_test = list(np.array(X_test))"
      ],
      "metadata": {
        "id": "FEjUNtl1iIcj"
      },
      "execution_count": null,
      "outputs": []
    },
    {
      "cell_type": "code",
      "source": [
        "# Running the model from above - SVC"
      ],
      "metadata": {
        "id": "lGy3ZI83iaGp"
      },
      "execution_count": null,
      "outputs": []
    },
    {
      "cell_type": "code",
      "source": [
        "rbf_accuracy = accuracy_score(y_test, rbf_pred)\n",
        "rbf_f1 = f1_score(y_test, rbf_pred, average='weighted')\n",
        "print('Accuracy (RBF Kernel): ', \"%.2f\" % (rbf_accuracy*100))\n",
        "print('F1 (RBF Kernel): ', \"%.2f\" % (rbf_f1*100))"
      ],
      "metadata": {
        "colab": {
          "base_uri": "https://localhost:8080/"
        },
        "id": "EsfXEpUVijK6",
        "outputId": "f4f0e302-f0a2-40d0-b9f8-0b31c01b6cdb"
      },
      "execution_count": null,
      "outputs": [
        {
          "output_type": "stream",
          "name": "stdout",
          "text": [
            "Accuracy (RBF Kernel):  39.19\n",
            "F1 (RBF Kernel):  22.24\n"
          ]
        }
      ]
    },
    {
      "cell_type": "code",
      "source": [
        "from sklearn.metrics import classification_report\n",
        "print(classification_report(y_test, pred))"
      ],
      "metadata": {
        "colab": {
          "base_uri": "https://localhost:8080/"
        },
        "id": "ch2xCwOgimQt",
        "outputId": "27305eec-8fa8-427e-88ba-b28c5fd5cc9c"
      },
      "execution_count": null,
      "outputs": [
        {
          "output_type": "stream",
          "name": "stdout",
          "text": [
            "              precision    recall  f1-score   support\n",
            "\n",
            "           0       0.00      0.00      0.00       284\n",
            "           1       0.39      0.68      0.50      2360\n",
            "           2       0.28      0.15      0.20      1633\n",
            "           3       0.29      0.17      0.22      1768\n",
            "\n",
            "    accuracy                           0.36      6045\n",
            "   macro avg       0.24      0.25      0.23      6045\n",
            "weighted avg       0.32      0.36      0.31      6045\n",
            "\n"
          ]
        }
      ]
    },
    {
      "cell_type": "code",
      "source": [
        "poly_accuracy = accuracy_score(y_test, poly_pred)\n",
        "poly_f1 = f1_score(y_test, poly_pred, average='weighted')\n",
        "print('Accuracy (Polynomial Kernel): ', \"%.2f\" % (poly_accuracy*100))\n",
        "print('F1 (Polynomial Kernel): ', \"%.2f\" % (poly_f1*100))"
      ],
      "metadata": {
        "colab": {
          "base_uri": "https://localhost:8080/"
        },
        "id": "efXYL9Y8ipzI",
        "outputId": "8caa911c-1e48-44ed-8726-a555abe1577d"
      },
      "execution_count": null,
      "outputs": [
        {
          "output_type": "stream",
          "name": "stdout",
          "text": [
            "Accuracy (Polynomial Kernel):  37.95\n",
            "F1 (Polynomial Kernel):  25.72\n"
          ]
        }
      ]
    },
    {
      "cell_type": "code",
      "source": [
        "from sklearn.metrics import classification_report\n",
        "print(classification_report(y_test, pred))"
      ],
      "metadata": {
        "colab": {
          "base_uri": "https://localhost:8080/"
        },
        "id": "TXBBnK6riqAL",
        "outputId": "e26b36b7-a806-47bb-e267-8d1d562d6d56"
      },
      "execution_count": null,
      "outputs": [
        {
          "output_type": "stream",
          "name": "stdout",
          "text": [
            "              precision    recall  f1-score   support\n",
            "\n",
            "           0       0.00      0.00      0.00       310\n",
            "           1       0.39      0.67      0.49      2367\n",
            "           2       0.28      0.15      0.20      1614\n",
            "           3       0.27      0.16      0.20      1754\n",
            "\n",
            "    accuracy                           0.35      6045\n",
            "   macro avg       0.23      0.25      0.22      6045\n",
            "weighted avg       0.30      0.35      0.30      6045\n",
            "\n"
          ]
        }
      ]
    },
    {
      "cell_type": "code",
      "source": [
        "# KNN\n",
        "# n=5, p=2- 54.309%, F1 wt avg- 54%\n",
        "# n=3, p=2- Accuracy=51.53%, 52%, recall- .06,.44,.6\n",
        "# n=7, p=2- Accuracy=55.54%, 54%, recall- .01,.46,.64, precision- .07,.46,.62"
      ],
      "metadata": {
        "id": "eygnKfiZiviI"
      },
      "execution_count": null,
      "outputs": []
    },
    {
      "cell_type": "code",
      "source": [
        "pred=KNN_model.predict(X_test)\n",
        "print(\"Accuracy={}%\".format((sum(y_test==pred)/y_test.shape[0])*100))"
      ],
      "metadata": {
        "colab": {
          "base_uri": "https://localhost:8080/"
        },
        "id": "JWjFvoRyjywd",
        "outputId": "37885882-b128-4f04-8014-4d83e8b0c6fb"
      },
      "execution_count": null,
      "outputs": [
        {
          "output_type": "stream",
          "name": "stdout",
          "text": [
            "Accuracy=51.53019023986766%\n"
          ]
        }
      ]
    },
    {
      "cell_type": "code",
      "source": [
        "from sklearn.metrics import classification_report\n",
        "print(classification_report(y_test, pred))"
      ],
      "metadata": {
        "colab": {
          "base_uri": "https://localhost:8080/"
        },
        "id": "NrSJWcimjyyy",
        "outputId": "57e3b73e-fdd9-4520-8ddf-3d1dfa7c1737"
      },
      "execution_count": null,
      "outputs": [
        {
          "output_type": "stream",
          "name": "stdout",
          "text": [
            "              precision    recall  f1-score   support\n",
            "\n",
            "           0       0.07      0.01      0.01       274\n",
            "           1       0.46      0.49      0.47      2324\n",
            "           2       0.62      0.64      0.63      3447\n",
            "\n",
            "    accuracy                           0.55      6045\n",
            "   macro avg       0.38      0.38      0.37      6045\n",
            "weighted avg       0.53      0.55      0.54      6045\n",
            "\n"
          ]
        }
      ]
    },
    {
      "cell_type": "markdown",
      "source": [
        "### Tfidf 1 gram"
      ],
      "metadata": {
        "id": "5doEBUMek7dm"
      }
    },
    {
      "cell_type": "code",
      "source": [
        "X = df['tfidf_word1gram']\n",
        "y = df.vote_ordinal\n",
        "\n",
        "X_train, X_test, y_train, y_test = train_test_split(X, y, test_size=0.3) # 70% training and 30% test\n",
        "\n",
        "X_train=list(np.array(X_train))\n",
        "X_test = list(np.array(X_test))"
      ],
      "metadata": {
        "id": "r5tYyvjXjy2V"
      },
      "execution_count": null,
      "outputs": []
    },
    {
      "cell_type": "code",
      "source": [
        "# SVC"
      ],
      "metadata": {
        "id": "P8h0D7Bxlzbk"
      },
      "execution_count": null,
      "outputs": []
    },
    {
      "cell_type": "code",
      "source": [
        "rbf_accuracy = accuracy_score(y_test, rbf_pred)\n",
        "rbf_f1 = f1_score(y_test, rbf_pred, average='weighted')\n",
        "print('Accuracy (RBF Kernel): ', \"%.2f\" % (rbf_accuracy*100))\n",
        "print('F1 (RBF Kernel): ', \"%.2f\" % (rbf_f1*100))"
      ],
      "metadata": {
        "colab": {
          "base_uri": "https://localhost:8080/"
        },
        "id": "6zwZN_uRlPhK",
        "outputId": "dc7f58ce-8059-4a3f-a437-79f23ccb550c"
      },
      "execution_count": null,
      "outputs": [
        {
          "output_type": "stream",
          "name": "stdout",
          "text": [
            "Accuracy (RBF Kernel):  56.87\n",
            "F1 (RBF Kernel):  41.37\n"
          ]
        }
      ]
    },
    {
      "cell_type": "code",
      "source": [
        "from sklearn.metrics import classification_report\n",
        "print(classification_report(y_test, pred))"
      ],
      "metadata": {
        "colab": {
          "base_uri": "https://localhost:8080/"
        },
        "id": "ZcyURMmklZNC",
        "outputId": "8a240deb-1f29-4f0c-84ea-5cd329760e4c"
      },
      "execution_count": null,
      "outputs": [
        {
          "output_type": "stream",
          "name": "stdout",
          "text": [
            "              precision    recall  f1-score   support\n",
            "\n",
            "           0       0.00      0.00      0.00       278\n",
            "           1       0.40      0.42      0.41      2331\n",
            "           2       0.58      0.60      0.59      3436\n",
            "\n",
            "    accuracy                           0.50      6045\n",
            "   macro avg       0.33      0.34      0.33      6045\n",
            "weighted avg       0.48      0.50      0.49      6045\n",
            "\n"
          ]
        }
      ]
    },
    {
      "cell_type": "code",
      "source": [
        "poly_accuracy = accuracy_score(y_test, poly_pred)\n",
        "poly_f1 = f1_score(y_test, poly_pred, average='weighted')\n",
        "print('Accuracy (Polynomial Kernel): ', \"%.2f\" % (poly_accuracy*100))\n",
        "print('F1 (Polynomial Kernel): ', \"%.2f\" % (poly_f1*100))"
      ],
      "metadata": {
        "colab": {
          "base_uri": "https://localhost:8080/"
        },
        "id": "qCVaQqHulbq4",
        "outputId": "0c2a663e-d77a-479b-c85b-a533e41db9e5"
      },
      "execution_count": null,
      "outputs": [
        {
          "output_type": "stream",
          "name": "stdout",
          "text": [
            "Accuracy (Polynomial Kernel):  56.36\n",
            "F1 (Polynomial Kernel):  41.97\n"
          ]
        }
      ]
    },
    {
      "cell_type": "code",
      "source": [
        "from sklearn.metrics import classification_report\n",
        "print(classification_report(y_test, pred))"
      ],
      "metadata": {
        "colab": {
          "base_uri": "https://localhost:8080/"
        },
        "id": "h3nYB-ZElcMI",
        "outputId": "93c2ed43-7137-4b3c-ae6d-eb4898da5bb5"
      },
      "execution_count": null,
      "outputs": [
        {
          "output_type": "stream",
          "name": "stdout",
          "text": [
            "              precision    recall  f1-score   support\n",
            "\n",
            "           0       0.00      0.00      0.00       278\n",
            "           1       0.40      0.42      0.41      2331\n",
            "           2       0.58      0.60      0.59      3436\n",
            "\n",
            "    accuracy                           0.50      6045\n",
            "   macro avg       0.33      0.34      0.33      6045\n",
            "weighted avg       0.48      0.50      0.49      6045\n",
            "\n"
          ]
        }
      ]
    },
    {
      "cell_type": "code",
      "source": [
        "# KNN"
      ],
      "metadata": {
        "id": "AxBUvrKyl1CO"
      },
      "execution_count": null,
      "outputs": []
    },
    {
      "cell_type": "code",
      "source": [
        "pred=KNN_model.predict(X_test)\n",
        "print(\"Accuracy={}%\".format((sum(y_test==pred)/y_test.shape[0])*100)) "
      ],
      "metadata": {
        "colab": {
          "base_uri": "https://localhost:8080/"
        },
        "id": "PWXb7H_bl1_u",
        "outputId": "15e4635a-cb75-4083-b833-34405bd4176f"
      },
      "execution_count": null,
      "outputs": [
        {
          "output_type": "stream",
          "name": "stdout",
          "text": [
            "Accuracy=51.728701406120756%\n"
          ]
        }
      ]
    },
    {
      "cell_type": "code",
      "source": [
        "from sklearn.metrics import classification_report\n",
        "print(classification_report(y_test, pred))"
      ],
      "metadata": {
        "colab": {
          "base_uri": "https://localhost:8080/"
        },
        "id": "zVLHBCZVl2LW",
        "outputId": "d9093df4-086f-47eb-c4c8-334a1c0c8d02"
      },
      "execution_count": null,
      "outputs": [
        {
          "output_type": "stream",
          "name": "stdout",
          "text": [
            "              precision    recall  f1-score   support\n",
            "\n",
            "           0       0.00      0.00      0.00       278\n",
            "           1       0.40      0.33      0.36      2331\n",
            "           2       0.58      0.68      0.63      3436\n",
            "\n",
            "    accuracy                           0.52      6045\n",
            "   macro avg       0.32      0.34      0.33      6045\n",
            "weighted avg       0.48      0.52      0.50      6045\n",
            "\n"
          ]
        }
      ]
    },
    {
      "cell_type": "markdown",
      "source": [
        "### Tfidf 2 gram"
      ],
      "metadata": {
        "id": "UaFEJWKMzS1g"
      }
    },
    {
      "cell_type": "code",
      "source": [
        "X = df['tfidf_word2gram']\n",
        "y = df.vote_ordinal\n",
        "\n",
        "X_train, X_test, y_train, y_test = train_test_split(X, y, test_size=0.3) # 70% training and 30% test\n",
        "\n",
        "X_train=list(np.array(X_train))\n",
        "X_test = list(np.array(X_test))"
      ],
      "metadata": {
        "id": "fq6_6YC9zaM9"
      },
      "execution_count": null,
      "outputs": []
    },
    {
      "cell_type": "code",
      "source": [
        "# SVC"
      ],
      "metadata": {
        "id": "ew8s9-wdzU5J"
      },
      "execution_count": null,
      "outputs": []
    },
    {
      "cell_type": "code",
      "source": [
        "rbf_accuracy = accuracy_score(y_test, rbf_pred)\n",
        "rbf_f1 = f1_score(y_test, rbf_pred, average='weighted')\n",
        "print('Accuracy (RBF Kernel): ', \"%.2f\" % (rbf_accuracy*100))\n",
        "print('F1 (RBF Kernel): ', \"%.2f\" % (rbf_f1*100))\n"
      ],
      "metadata": {
        "colab": {
          "base_uri": "https://localhost:8080/"
        },
        "id": "Wz481Ob0zXrQ",
        "outputId": "987f6aea-618f-4647-c8d5-279347547250"
      },
      "execution_count": null,
      "outputs": [
        {
          "output_type": "stream",
          "name": "stdout",
          "text": [
            "Accuracy (RBF Kernel):  56.23\n",
            "F1 (RBF Kernel):  40.57\n"
          ]
        }
      ]
    },
    {
      "cell_type": "code",
      "source": [
        "from sklearn.metrics import classification_report\n",
        "print(classification_report(y_test, pred))"
      ],
      "metadata": {
        "colab": {
          "base_uri": "https://localhost:8080/"
        },
        "id": "IFhOyUQm0aXI",
        "outputId": "8fea7ab8-56b6-4f4a-f792-6025696f7ada"
      },
      "execution_count": null,
      "outputs": [
        {
          "output_type": "stream",
          "name": "stdout",
          "text": [
            "              precision    recall  f1-score   support\n",
            "\n",
            "           0       0.12      0.01      0.01       267\n",
            "           1       0.39      0.32      0.35      2381\n",
            "           2       0.56      0.67      0.61      3397\n",
            "\n",
            "    accuracy                           0.50      6045\n",
            "   macro avg       0.36      0.33      0.33      6045\n",
            "weighted avg       0.47      0.50      0.48      6045\n",
            "\n"
          ]
        }
      ]
    },
    {
      "cell_type": "code",
      "source": [
        "poly_accuracy = accuracy_score(y_test, poly_pred)\n",
        "poly_f1 = f1_score(y_test, poly_pred, average='weighted')\n",
        "print('Accuracy (Polynomial Kernel): ', \"%.2f\" % (poly_accuracy*100))\n",
        "print('F1 (Polynomial Kernel): ', \"%.2f\" % (poly_f1*100))"
      ],
      "metadata": {
        "colab": {
          "base_uri": "https://localhost:8080/"
        },
        "id": "aA8YO3HD0bev",
        "outputId": "1b6159ad-57b2-43fc-f980-20b994e8c36f"
      },
      "execution_count": null,
      "outputs": [
        {
          "output_type": "stream",
          "name": "stdout",
          "text": [
            "Accuracy (Polynomial Kernel):  55.67\n",
            "F1 (Polynomial Kernel):  41.41\n"
          ]
        }
      ]
    },
    {
      "cell_type": "code",
      "source": [
        "from sklearn.metrics import classification_report\n",
        "print(classification_report(y_test, pred))"
      ],
      "metadata": {
        "colab": {
          "base_uri": "https://localhost:8080/"
        },
        "id": "M2-F-Cgb0aah",
        "outputId": "9cc4cbaa-d972-4475-a3eb-ffbb47632fa8"
      },
      "execution_count": null,
      "outputs": [
        {
          "output_type": "stream",
          "name": "stdout",
          "text": [
            "              precision    recall  f1-score   support\n",
            "\n",
            "           0       0.12      0.01      0.01       267\n",
            "           1       0.39      0.32      0.35      2381\n",
            "           2       0.56      0.67      0.61      3397\n",
            "\n",
            "    accuracy                           0.50      6045\n",
            "   macro avg       0.36      0.33      0.33      6045\n",
            "weighted avg       0.47      0.50      0.48      6045\n",
            "\n"
          ]
        }
      ]
    },
    {
      "cell_type": "code",
      "source": [
        "# KNN"
      ],
      "metadata": {
        "id": "HLpUXJWg0tMy"
      },
      "execution_count": null,
      "outputs": []
    },
    {
      "cell_type": "code",
      "source": [
        "pred=KNN_model.predict(X_test)\n",
        "print(\"Accuracy={}%\".format((sum(y_test==pred)/y_test.shape[0])*100)) "
      ],
      "metadata": {
        "colab": {
          "base_uri": "https://localhost:8080/"
        },
        "id": "i711XvG50tQX",
        "outputId": "eee7bc0c-f70e-44ff-ac56-f76128bc69ad"
      },
      "execution_count": null,
      "outputs": [
        {
          "output_type": "stream",
          "name": "stdout",
          "text": [
            "Accuracy=51.464019851116625%\n"
          ]
        }
      ]
    },
    {
      "cell_type": "code",
      "source": [
        "from sklearn.metrics import classification_report\n",
        "print(classification_report(y_test, pred))"
      ],
      "metadata": {
        "colab": {
          "base_uri": "https://localhost:8080/"
        },
        "id": "JCd3-xzn0tok",
        "outputId": "2e1d4a92-ebb0-4d75-bb7d-3de7e945d10a"
      },
      "execution_count": null,
      "outputs": [
        {
          "output_type": "stream",
          "name": "stdout",
          "text": [
            "              precision    recall  f1-score   support\n",
            "\n",
            "           0       0.12      0.01      0.02       267\n",
            "           1       0.41      0.32      0.36      2381\n",
            "           2       0.57      0.69      0.62      3397\n",
            "\n",
            "    accuracy                           0.51      6045\n",
            "   macro avg       0.36      0.34      0.33      6045\n",
            "weighted avg       0.48      0.51      0.49      6045\n",
            "\n"
          ]
        }
      ]
    },
    {
      "cell_type": "markdown",
      "source": [
        "### Tfidf 3 gram"
      ],
      "metadata": {
        "id": "-rPh9eQr0owj"
      }
    },
    {
      "cell_type": "code",
      "source": [
        "X = df['tfidf_word3gram']\n",
        "y = df.vote_ordinal\n",
        "\n",
        "X_train, X_test, y_train, y_test = train_test_split(X, y, test_size=0.3) # 70% training and 30% test\n",
        "\n",
        "X_train=list(np.array(X_train))\n",
        "X_test = list(np.array(X_test))"
      ],
      "metadata": {
        "id": "dJwb8xBH0rNZ"
      },
      "execution_count": null,
      "outputs": []
    },
    {
      "cell_type": "code",
      "source": [
        "# SVC"
      ],
      "metadata": {
        "id": "rLzzMxT70yTR"
      },
      "execution_count": null,
      "outputs": []
    },
    {
      "cell_type": "code",
      "source": [
        "rbf_accuracy = accuracy_score(y_test, rbf_pred)\n",
        "rbf_f1 = f1_score(y_test, rbf_pred, average='weighted')\n",
        "print('Accuracy (RBF Kernel): ', \"%.2f\" % (rbf_accuracy*100))\n",
        "print('F1 (RBF Kernel): ', \"%.2f\" % (rbf_f1*100))"
      ],
      "metadata": {
        "colab": {
          "base_uri": "https://localhost:8080/"
        },
        "id": "9Je78Ejs06qt",
        "outputId": "7046bb76-8a51-4507-c9bb-3792db82c43d"
      },
      "execution_count": null,
      "outputs": [
        {
          "output_type": "stream",
          "name": "stdout",
          "text": [
            "Accuracy (RBF Kernel):  57.34\n",
            "F1 (RBF Kernel):  41.79\n"
          ]
        }
      ]
    },
    {
      "cell_type": "code",
      "source": [
        "from sklearn.metrics import classification_report\n",
        "print(classification_report(y_test, pred))"
      ],
      "metadata": {
        "colab": {
          "base_uri": "https://localhost:8080/"
        },
        "id": "UH5vhFE00yV3",
        "outputId": "e96523d5-5c9b-4b70-e37c-3cadea147c2f"
      },
      "execution_count": null,
      "outputs": [
        {
          "output_type": "stream",
          "name": "stdout",
          "text": [
            "              precision    recall  f1-score   support\n",
            "\n",
            "           0       0.00      0.00      0.00       269\n",
            "           1       0.39      0.31      0.34      2310\n",
            "           2       0.57      0.69      0.63      3466\n",
            "\n",
            "    accuracy                           0.51      6045\n",
            "   macro avg       0.32      0.33      0.32      6045\n",
            "weighted avg       0.48      0.51      0.49      6045\n",
            "\n"
          ]
        }
      ]
    },
    {
      "cell_type": "code",
      "source": [
        "poly_accuracy = accuracy_score(y_test, poly_pred)\n",
        "poly_f1 = f1_score(y_test, poly_pred, average='weighted')\n",
        "print('Accuracy (Polynomial Kernel): ', \"%.2f\" % (poly_accuracy*100))\n",
        "print('F1 (Polynomial Kernel): ', \"%.2f\" % (poly_f1*100))"
      ],
      "metadata": {
        "colab": {
          "base_uri": "https://localhost:8080/"
        },
        "id": "9qxLxM5P054W",
        "outputId": "588f892c-2dc3-44c3-916f-1c89470bcae5"
      },
      "execution_count": null,
      "outputs": [
        {
          "output_type": "stream",
          "name": "stdout",
          "text": [
            "Accuracy (Polynomial Kernel):  56.96\n",
            "F1 (Polynomial Kernel):  43.44\n"
          ]
        }
      ]
    },
    {
      "cell_type": "code",
      "source": [
        "from sklearn.metrics import classification_report\n",
        "print(classification_report(y_test, pred))"
      ],
      "metadata": {
        "colab": {
          "base_uri": "https://localhost:8080/"
        },
        "id": "jx2JUczx0yZT",
        "outputId": "937cb6fd-62d9-4a8a-866d-69dc94a75a23"
      },
      "execution_count": null,
      "outputs": [
        {
          "output_type": "stream",
          "name": "stdout",
          "text": [
            "              precision    recall  f1-score   support\n",
            "\n",
            "           0       0.00      0.00      0.00       269\n",
            "           1       0.39      0.31      0.34      2310\n",
            "           2       0.57      0.69      0.63      3466\n",
            "\n",
            "    accuracy                           0.51      6045\n",
            "   macro avg       0.32      0.33      0.32      6045\n",
            "weighted avg       0.48      0.51      0.49      6045\n",
            "\n"
          ]
        }
      ]
    },
    {
      "cell_type": "code",
      "source": [
        "# KNN"
      ],
      "metadata": {
        "id": "04ZdR2Oi01N8"
      },
      "execution_count": null,
      "outputs": []
    },
    {
      "cell_type": "code",
      "source": [
        "pred=KNN_model.predict(X_test) "
      ],
      "metadata": {
        "id": "ddyMHhoj01RU"
      },
      "execution_count": null,
      "outputs": []
    },
    {
      "cell_type": "code",
      "source": [
        "pred=KNN_model.predict(X_test) # n=7"
      ],
      "metadata": {
        "colab": {
          "base_uri": "https://localhost:8080/"
        },
        "id": "4WzmSVr91WVJ",
        "outputId": "70fc4488-7fde-4ca6-a41a-8d1a5e5fc96f"
      },
      "execution_count": null,
      "outputs": [
        {
          "output_type": "stream",
          "name": "stdout",
          "text": [
            "Accuracy=50.35566583953681%\n"
          ]
        }
      ]
    },
    {
      "cell_type": "code",
      "source": [
        "from sklearn.metrics import classification_report\n",
        "print(classification_report(y_test, pred))"
      ],
      "metadata": {
        "colab": {
          "base_uri": "https://localhost:8080/"
        },
        "id": "gnjQZ7Dj1UXt",
        "outputId": "ce8fc792-b8b3-46d5-be91-9fa9487f0642"
      },
      "execution_count": null,
      "outputs": [
        {
          "output_type": "stream",
          "name": "stdout",
          "text": [
            "              precision    recall  f1-score   support\n",
            "\n",
            "           0       0.05      0.00      0.01       269\n",
            "           1       0.38      0.35      0.37      2310\n",
            "           2       0.57      0.64      0.61      3466\n",
            "\n",
            "    accuracy                           0.50      6045\n",
            "   macro avg       0.33      0.33      0.33      6045\n",
            "weighted avg       0.48      0.50      0.49      6045\n",
            "\n"
          ]
        }
      ]
    },
    {
      "cell_type": "code",
      "source": [
        "print(\"Accuracy={}%\".format((sum(y_test==pred)/y_test.shape[0])*100)) # n=11"
      ],
      "metadata": {
        "colab": {
          "base_uri": "https://localhost:8080/"
        },
        "id": "JuS0c7qG50oo",
        "outputId": "973a1444-f4ab-46f4-eecd-dd74a1ec1258"
      },
      "execution_count": null,
      "outputs": [
        {
          "output_type": "stream",
          "name": "stdout",
          "text": [
            "Accuracy=51.182795698924735%\n"
          ]
        }
      ]
    },
    {
      "cell_type": "code",
      "source": [
        "from sklearn.metrics import classification_report\n",
        "print(classification_report(y_test, pred))"
      ],
      "metadata": {
        "colab": {
          "base_uri": "https://localhost:8080/"
        },
        "id": "ICmV041a0zvi",
        "outputId": "33e20007-261c-4ab2-ba1c-642572a6202f"
      },
      "execution_count": null,
      "outputs": [
        {
          "output_type": "stream",
          "name": "stdout",
          "text": [
            "              precision    recall  f1-score   support\n",
            "\n",
            "           0       0.00      0.00      0.00       269\n",
            "           1       0.38      0.32      0.35      2310\n",
            "           2       0.57      0.68      0.62      3466\n",
            "\n",
            "    accuracy                           0.51      6045\n",
            "   macro avg       0.32      0.33      0.32      6045\n",
            "weighted avg       0.47      0.51      0.49      6045\n",
            "\n"
          ]
        }
      ]
    },
    {
      "cell_type": "markdown",
      "source": [
        "### Word2vec"
      ],
      "metadata": {
        "id": "TrgeLDy21PI-"
      }
    },
    {
      "cell_type": "code",
      "source": [
        "X = df['w2v_cbow']\n",
        "y = df.vote_ordinal\n",
        "\n",
        "X_train, X_test, y_train, y_test = train_test_split(X, y, test_size=0.3) # 70% training and 30% test\n",
        "\n",
        "X_train=list(np.array(X_train))\n",
        "X_test = list(np.array(X_test))"
      ],
      "metadata": {
        "id": "tV0yVLzl1ToB"
      },
      "execution_count": null,
      "outputs": []
    },
    {
      "cell_type": "code",
      "source": [
        "# SVC"
      ],
      "metadata": {
        "id": "gQgX42N61UMB"
      },
      "execution_count": null,
      "outputs": []
    },
    {
      "cell_type": "code",
      "source": [
        "rbf_accuracy = accuracy_score(y_test, rbf_pred)\n",
        "rbf_f1 = f1_score(y_test, rbf_pred, average='weighted')\n",
        "print('Accuracy (RBF Kernel): ', \"%.2f\" % (rbf_accuracy*100))\n",
        "print('F1 (RBF Kernel): ', \"%.2f\" % (rbf_f1*100))"
      ],
      "metadata": {
        "colab": {
          "base_uri": "https://localhost:8080/"
        },
        "id": "g8rkM8bz1UOV",
        "outputId": "1fd6d8d4-2160-4fb7-8076-edf6aeac0b0e"
      },
      "execution_count": null,
      "outputs": [
        {
          "output_type": "stream",
          "name": "stdout",
          "text": [
            "Accuracy (RBF Kernel):  38.96\n",
            "F1 (RBF Kernel):  21.95\n"
          ]
        }
      ]
    },
    {
      "cell_type": "code",
      "source": [
        "from sklearn.metrics import classification_report\n",
        "print(classification_report(y_test, pred))"
      ],
      "metadata": {
        "colab": {
          "base_uri": "https://localhost:8080/"
        },
        "id": "QaoWH8EU1UQe",
        "outputId": "7c3f2b01-f16a-46f2-9f66-b179455c12ad"
      },
      "execution_count": null,
      "outputs": [
        {
          "output_type": "stream",
          "name": "stdout",
          "text": [
            "              precision    recall  f1-score   support\n",
            "\n",
            "           0       0.00      0.00      0.00       277\n",
            "           1       0.38      0.57      0.46      2354\n",
            "           2       0.28      0.20      0.23      1671\n",
            "           3       0.30      0.23      0.26      1743\n",
            "\n",
            "    accuracy                           0.34      6045\n",
            "   macro avg       0.24      0.25      0.24      6045\n",
            "weighted avg       0.31      0.34      0.32      6045\n",
            "\n"
          ]
        }
      ]
    },
    {
      "cell_type": "code",
      "source": [
        "poly_accuracy = accuracy_score(y_test, poly_pred)\n",
        "poly_f1 = f1_score(y_test, poly_pred, average='weighted')\n",
        "print('Accuracy (Polynomial Kernel): ', \"%.2f\" % (poly_accuracy*100))\n",
        "print('F1 (Polynomial Kernel): ', \"%.2f\" % (poly_f1*100))"
      ],
      "metadata": {
        "colab": {
          "base_uri": "https://localhost:8080/"
        },
        "id": "duFnz0Ji1USs",
        "outputId": "cc0bdeb7-9854-443a-8536-d5736c1a1da4"
      },
      "execution_count": null,
      "outputs": [
        {
          "output_type": "stream",
          "name": "stdout",
          "text": [
            "Accuracy (Polynomial Kernel):  54.76\n",
            "F1 (Polynomial Kernel):  44.27\n"
          ]
        }
      ]
    },
    {
      "cell_type": "code",
      "source": [
        "from sklearn.metrics import classification_report\n",
        "print(classification_report(y_test, pred))"
      ],
      "metadata": {
        "colab": {
          "base_uri": "https://localhost:8080/"
        },
        "id": "q0JnC5gI1UUa",
        "outputId": "dcbcc6c8-258b-4c93-da31-b80b17cfc99f"
      },
      "execution_count": null,
      "outputs": [
        {
          "output_type": "stream",
          "name": "stdout",
          "text": [
            "              precision    recall  f1-score   support\n",
            "\n",
            "           0       0.00      0.00      0.00       280\n",
            "           1       0.39      0.31      0.35      2369\n",
            "           2       0.56      0.68      0.62      3396\n",
            "\n",
            "    accuracy                           0.51      6045\n",
            "   macro avg       0.32      0.33      0.32      6045\n",
            "weighted avg       0.47      0.51      0.48      6045\n",
            "\n"
          ]
        }
      ]
    },
    {
      "cell_type": "code",
      "source": [
        "# KNN"
      ],
      "metadata": {
        "id": "SOspwWRv1YmY"
      },
      "execution_count": null,
      "outputs": []
    },
    {
      "cell_type": "code",
      "source": [
        "pred=KNN_model.predict(X_test) "
      ],
      "metadata": {
        "id": "HjGgtuk16ZfY"
      },
      "execution_count": null,
      "outputs": []
    },
    {
      "cell_type": "code",
      "source": [
        "print(\"Accuracy={}%\".format((sum(y_test==pred)/y_test.shape[0])*100)) # n=10"
      ],
      "metadata": {
        "colab": {
          "base_uri": "https://localhost:8080/"
        },
        "id": "sr2AN5AT5hzn",
        "outputId": "ee039537-bacf-4613-8934-a3adff7a33d4"
      },
      "execution_count": null,
      "outputs": [
        {
          "output_type": "stream",
          "name": "stdout",
          "text": [
            "Accuracy=50.37220843672456%\n"
          ]
        }
      ]
    },
    {
      "cell_type": "code",
      "source": [
        "from sklearn.metrics import classification_report\n",
        "print(classification_report(y_test, pred))"
      ],
      "metadata": {
        "colab": {
          "base_uri": "https://localhost:8080/"
        },
        "id": "uoFs4anT6aUf",
        "outputId": "27138749-07e1-4a7f-ffb8-5398bce3ff92"
      },
      "execution_count": null,
      "outputs": [
        {
          "output_type": "stream",
          "name": "stdout",
          "text": [
            "              precision    recall  f1-score   support\n",
            "\n",
            "           0       0.00      0.00      0.00       280\n",
            "           1       0.40      0.35      0.37      2369\n",
            "           2       0.56      0.65      0.60      3396\n",
            "\n",
            "    accuracy                           0.50      6045\n",
            "   macro avg       0.32      0.33      0.33      6045\n",
            "weighted avg       0.47      0.50      0.48      6045\n",
            "\n"
          ]
        }
      ]
    },
    {
      "cell_type": "code",
      "source": [
        "print(\"Accuracy={}%\".format((sum(y_test==pred)/y_test.shape[0])*100)) # n=13"
      ],
      "metadata": {
        "colab": {
          "base_uri": "https://localhost:8080/"
        },
        "id": "bJJo7myz8QkC",
        "outputId": "edfeafbb-52d7-43ab-bbd7-df648bdf8aaa"
      },
      "execution_count": null,
      "outputs": [
        {
          "output_type": "stream",
          "name": "stdout",
          "text": [
            "Accuracy=51.464019851116625%\n"
          ]
        }
      ]
    },
    {
      "cell_type": "code",
      "source": [
        "from sklearn.metrics import classification_report\n",
        "print(classification_report(y_test, pred))"
      ],
      "metadata": {
        "colab": {
          "base_uri": "https://localhost:8080/"
        },
        "id": "3OUceo8r8Qnj",
        "outputId": "976aff5c-d2e3-410a-fa3f-fa8436bcc4b3"
      },
      "execution_count": null,
      "outputs": [
        {
          "output_type": "stream",
          "name": "stdout",
          "text": [
            "              precision    recall  f1-score   support\n",
            "\n",
            "           0       0.00      0.00      0.00       280\n",
            "           1       0.40      0.29      0.33      2369\n",
            "           2       0.56      0.72      0.63      3396\n",
            "\n",
            "    accuracy                           0.51      6045\n",
            "   macro avg       0.32      0.33      0.32      6045\n",
            "weighted avg       0.47      0.51      0.48      6045\n",
            "\n"
          ]
        }
      ]
    }
  ]
}